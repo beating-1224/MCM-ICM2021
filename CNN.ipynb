{
 "cells": [
  {
   "cell_type": "code",
   "execution_count": 8,
   "id": "independent-compensation",
   "metadata": {},
   "outputs": [
    {
     "name": "stdout",
     "output_type": "stream",
     "text": [
      "[0 1 2 ... 1 0 0]\n"
     ]
    }
   ],
   "source": [
    "import cv2\n",
    "import os\n",
    "import tensorflow as tf\n",
    "import numpy as np\n",
    "\n",
    "path=r'E:/tupian/'\n",
    "#由于我们的数据集图片大小不一致，所以需要resize成统一大小 这里resize成100x100x3\n",
    "w=100\n",
    "h=100\n",
    "c=3\n",
    "#data 对应图片, label 是标签，roses 0,daisy 1,sunflowers 2,tulips 3,dandelion 4.\n",
    "def read_img(path):\n",
    "    imgs=[]\n",
    "    labels=[]\n",
    "    cate=[path+x for x in os.listdir(path) if os.path.isdir(path+x)]\n",
    "    for idx,i in enumerate(cate):\n",
    "        for j in os.listdir(i):\n",
    "            im = cv2.imread(i+'/'+j)\n",
    "            img = cv2.resize(im, (w, h))/255.\n",
    "            imgs.append(img)\n",
    "            labels.append(idx)\n",
    "    return np.asarray(imgs,np.float32),np.asarray(labels,np.int32)\n",
    "data,label=read_img(path)\n",
    "#打乱顺序\n",
    "num_example=data.shape[0] # data.shape是(3029, 100, 100, 3)\n",
    "arr=np.arange(num_example)# 创建等差数组 0，1，...,3028\n",
    "np.random.shuffle(arr)# 打乱顺序\n",
    "data=data[arr]\n",
    "label=label[arr]\n",
    "print(label)\n",
    "\n",
    "def to_one_hot(labels):\n",
    "    l = len(labels)\n",
    "    res = np.zeros((l, 3), dtype=np.float32)\n",
    "    for i in range(l):\n",
    "        res[i][labels[i]] = 1.\n",
    "    return res\n",
    "label_oh = to_one_hot(label)\n",
    "#划分80%训练集\n",
    "ratio=0.8\n",
    "s=np.int(num_example*ratio)\n",
    "x_train=data[:s]\n",
    "y_train=label_oh[:s]\n",
    "x_test=data[s:]\n",
    "y_test=label_oh[s:]\n"
   ]
  },
  {
   "cell_type": "code",
   "execution_count": 9,
   "id": "european-sauce",
   "metadata": {},
   "outputs": [
    {
     "data": {
      "text/plain": [
       "(1540, 100, 100, 3)"
      ]
     },
     "execution_count": 9,
     "metadata": {},
     "output_type": "execute_result"
    }
   ],
   "source": [
    "np.shape(x_test)"
   ]
  },
  {
   "cell_type": "code",
   "execution_count": 10,
   "id": "knowing-chorus",
   "metadata": {},
   "outputs": [
    {
     "data": {
      "text/plain": [
       "(6158, 100, 100, 3)"
      ]
     },
     "execution_count": 10,
     "metadata": {},
     "output_type": "execute_result"
    }
   ],
   "source": [
    "np.shape(x_train)"
   ]
  },
  {
   "cell_type": "code",
   "execution_count": 11,
   "id": "meaningful-conservative",
   "metadata": {},
   "outputs": [
    {
     "name": "stdout",
     "output_type": "stream",
     "text": [
      "Model: \"sequential_1\"\n",
      "_________________________________________________________________\n",
      "Layer (type)                 Output Shape              Param #   \n",
      "=================================================================\n",
      "conv2d_4 (Conv2D)            (None, 100, 100, 32)      896       \n",
      "_________________________________________________________________\n",
      "activation_6 (Activation)    (None, 100, 100, 32)      0         \n",
      "_________________________________________________________________\n",
      "conv2d_5 (Conv2D)            (None, 98, 98, 32)        9248      \n",
      "_________________________________________________________________\n",
      "activation_7 (Activation)    (None, 98, 98, 32)        0         \n",
      "_________________________________________________________________\n",
      "max_pooling2d_2 (MaxPooling2 (None, 49, 49, 32)        0         \n",
      "_________________________________________________________________\n",
      "dropout_3 (Dropout)          (None, 49, 49, 32)        0         \n",
      "_________________________________________________________________\n",
      "conv2d_6 (Conv2D)            (None, 49, 49, 64)        18496     \n",
      "_________________________________________________________________\n",
      "activation_8 (Activation)    (None, 49, 49, 64)        0         \n",
      "_________________________________________________________________\n",
      "conv2d_7 (Conv2D)            (None, 47, 47, 64)        36928     \n",
      "_________________________________________________________________\n",
      "activation_9 (Activation)    (None, 47, 47, 64)        0         \n",
      "_________________________________________________________________\n",
      "max_pooling2d_3 (MaxPooling2 (None, 23, 23, 64)        0         \n",
      "_________________________________________________________________\n",
      "dropout_4 (Dropout)          (None, 23, 23, 64)        0         \n",
      "_________________________________________________________________\n",
      "flatten_1 (Flatten)          (None, 33856)             0         \n",
      "_________________________________________________________________\n",
      "dense_2 (Dense)              (None, 512)               17334784  \n",
      "_________________________________________________________________\n",
      "activation_10 (Activation)   (None, 512)               0         \n",
      "_________________________________________________________________\n",
      "dropout_5 (Dropout)          (None, 512)               0         \n",
      "_________________________________________________________________\n",
      "dense_3 (Dense)              (None, 3)                 1539      \n",
      "_________________________________________________________________\n",
      "activation_11 (Activation)   (None, 3)                 0         \n",
      "=================================================================\n",
      "Total params: 17,401,891\n",
      "Trainable params: 17,401,891\n",
      "Non-trainable params: 0\n",
      "_________________________________________________________________\n"
     ]
    }
   ],
   "source": [
    "from tensorflow.keras.models import Sequential\n",
    "from tensorflow.keras.layers import *\n",
    "from tensorflow.keras.optimizers import Adam\n",
    "\n",
    "batch_size = 32\n",
    "num_classes = 3\n",
    "epochs = 10\n",
    "model = Sequential()\n",
    "model.add(Conv2D(32, (3, 3), padding='same',  # 32，(3,3)是卷积核数量和大小\n",
    "                 input_shape=x_train.shape[1:]))  # 第一层需要指出图像的大小\n",
    "model.add(Activation('relu'))\n",
    "model.add(Conv2D(32, (3, 3)))\n",
    "model.add(Activation('relu'))\n",
    "model.add(MaxPooling2D(pool_size=(2, 2)))\n",
    "model.add(Dropout(0.25))\n",
    "\n",
    "model.add(Conv2D(64, (3, 3), padding='same'))\n",
    "model.add(Activation('relu'))\n",
    "model.add(Conv2D(64, (3, 3)))\n",
    "model.add(Activation('relu'))\n",
    "model.add(MaxPooling2D(pool_size=(2, 2)))\n",
    "model.add(Dropout(0.25))\n",
    "\n",
    "model.add(Flatten())\n",
    "model.add(Dense(512))\n",
    "model.add(Activation('relu'))\n",
    "model.add(Dropout(0.5))\n",
    "model.add(Dense(num_classes))\n",
    "model.add(Activation('softmax'))\n",
    "\n",
    "# initiate RMSprop optimizer\n",
    "opt = tf.keras.optimizers.Adam()\n",
    "\n",
    "# Let's train the model using RMSprop\n",
    "model.compile(loss=tf.keras.losses.CategoricalCrossentropy(),\n",
    "              optimizer=opt,\n",
    "              metrics=['accuracy'])\n",
    "model.summary()"
   ]
  },
  {
   "cell_type": "code",
   "execution_count": 13,
   "id": "later-bundle",
   "metadata": {},
   "outputs": [
    {
     "name": "stdout",
     "output_type": "stream",
     "text": [
      "Train on 6158 samples, validate on 1540 samples\n",
      "Epoch 1/30\n",
      "6158/6158 [==============================] - 372s 60ms/sample - loss: 0.9231 - accuracy: 0.5110 - val_loss: 0.7773 - val_accuracy: 0.6532\n",
      "Epoch 2/30\n",
      "6158/6158 [==============================] - 399s 65ms/sample - loss: 0.7563 - accuracy: 0.6517 - val_loss: 0.6683 - val_accuracy: 0.6942\n",
      "Epoch 3/30\n",
      "6158/6158 [==============================] - 491s 80ms/sample - loss: 0.6139 - accuracy: 0.7361 - val_loss: 0.5578 - val_accuracy: 0.7760\n",
      "Epoch 4/30\n",
      "6158/6158 [==============================] - 416s 68ms/sample - loss: 0.4757 - accuracy: 0.8123 - val_loss: 0.4275 - val_accuracy: 0.8325\n",
      "Epoch 5/30\n",
      "6158/6158 [==============================] - 353s 57ms/sample - loss: 0.3764 - accuracy: 0.8610 - val_loss: 0.3828 - val_accuracy: 0.8474\n",
      "Epoch 6/30\n",
      "6158/6158 [==============================] - 352s 57ms/sample - loss: 0.3199 - accuracy: 0.8750 - val_loss: 0.2691 - val_accuracy: 0.9013\n",
      "Epoch 7/30\n",
      "6158/6158 [==============================] - 352s 57ms/sample - loss: 0.2163 - accuracy: 0.9227 - val_loss: 0.2505 - val_accuracy: 0.9136\n",
      "Epoch 8/30\n",
      "6158/6158 [==============================] - 354s 57ms/sample - loss: 0.2047 - accuracy: 0.9264 - val_loss: 0.3141 - val_accuracy: 0.8890\n",
      "Epoch 9/30\n",
      "6158/6158 [==============================] - 396s 64ms/sample - loss: 0.1208 - accuracy: 0.9571 - val_loss: 0.2864 - val_accuracy: 0.9260\n",
      "Epoch 10/30\n",
      "6158/6158 [==============================] - 395s 64ms/sample - loss: 0.0829 - accuracy: 0.9703 - val_loss: 0.1779 - val_accuracy: 0.9532\n",
      "Epoch 11/30\n",
      "6158/6158 [==============================] - 364s 59ms/sample - loss: 0.1012 - accuracy: 0.9652 - val_loss: 0.2241 - val_accuracy: 0.9286\n",
      "Epoch 12/30\n",
      "6158/6158 [==============================] - 371s 60ms/sample - loss: 0.0826 - accuracy: 0.9693 - val_loss: 0.1873 - val_accuracy: 0.9481\n",
      "Epoch 13/30\n",
      "6158/6158 [==============================] - 374s 61ms/sample - loss: 0.0593 - accuracy: 0.9812 - val_loss: 0.2134 - val_accuracy: 0.9390\n",
      "Epoch 14/30\n",
      "6158/6158 [==============================] - 384s 62ms/sample - loss: 0.0448 - accuracy: 0.9868 - val_loss: 0.2040 - val_accuracy: 0.9526\n",
      "Epoch 15/30\n",
      "6158/6158 [==============================] - 373s 61ms/sample - loss: 0.0492 - accuracy: 0.9834 - val_loss: 0.2789 - val_accuracy: 0.9182\n",
      "Epoch 16/30\n",
      "6158/6158 [==============================] - 370s 60ms/sample - loss: 0.0396 - accuracy: 0.9870 - val_loss: 0.2356 - val_accuracy: 0.9429\n",
      "Epoch 17/30\n",
      "6158/6158 [==============================] - 363s 59ms/sample - loss: 0.0311 - accuracy: 0.9903 - val_loss: 0.2650 - val_accuracy: 0.9487\n",
      "Epoch 18/30\n",
      "6158/6158 [==============================] - 361s 59ms/sample - loss: 0.1287 - accuracy: 0.9555 - val_loss: 0.3708 - val_accuracy: 0.8760\n",
      "Epoch 19/30\n",
      "6158/6158 [==============================] - 374s 61ms/sample - loss: 0.0814 - accuracy: 0.9675 - val_loss: 0.2023 - val_accuracy: 0.9416\n",
      "Epoch 20/30\n",
      "6158/6158 [==============================] - 368s 60ms/sample - loss: 0.0228 - accuracy: 0.9927 - val_loss: 0.2379 - val_accuracy: 0.9526\n",
      "Epoch 21/30\n",
      "6158/6158 [==============================] - 363s 59ms/sample - loss: 0.0506 - accuracy: 0.9852 - val_loss: 0.1800 - val_accuracy: 0.9494\n",
      "Epoch 22/30\n",
      "6158/6158 [==============================] - 363s 59ms/sample - loss: 0.0309 - accuracy: 0.9893 - val_loss: 0.3096 - val_accuracy: 0.9351\n",
      "Epoch 23/30\n",
      "6158/6158 [==============================] - 382s 62ms/sample - loss: 0.0291 - accuracy: 0.9909 - val_loss: 0.2882 - val_accuracy: 0.9403\n",
      "Epoch 24/30\n",
      "6158/6158 [==============================] - 381s 62ms/sample - loss: 0.0203 - accuracy: 0.9945 - val_loss: 0.2153 - val_accuracy: 0.9571\n",
      "Epoch 25/30\n",
      "6158/6158 [==============================] - 373s 61ms/sample - loss: 0.0377 - accuracy: 0.9877 - val_loss: 0.4059 - val_accuracy: 0.9149\n",
      "Epoch 26/30\n",
      "6158/6158 [==============================] - 365s 59ms/sample - loss: 0.0499 - accuracy: 0.9872 - val_loss: 0.2605 - val_accuracy: 0.9422\n",
      "Epoch 27/30\n",
      "6158/6158 [==============================] - 364s 59ms/sample - loss: 0.0246 - accuracy: 0.9929 - val_loss: 0.2240 - val_accuracy: 0.9442\n",
      "Epoch 28/30\n",
      "6158/6158 [==============================] - 361s 59ms/sample - loss: 0.0226 - accuracy: 0.9927 - val_loss: 0.3217 - val_accuracy: 0.9377\n",
      "Epoch 29/30\n",
      "6158/6158 [==============================] - 379s 62ms/sample - loss: 0.0204 - accuracy: 0.9932 - val_loss: 0.2665 - val_accuracy: 0.9481\n",
      "Epoch 30/30\n",
      "6158/6158 [==============================] - 379s 62ms/sample - loss: 0.0301 - accuracy: 0.9896 - val_loss: 0.2921 - val_accuracy: 0.9442\n"
     ]
    }
   ],
   "source": [
    "batch_size = 32\n",
    "num_classes = 3\n",
    "epochs = 30\n",
    "history = model.fit(x_train, y_train,\n",
    "              batch_size=batch_size,\n",
    "              epochs=epochs,\n",
    "              validation_data=(x_test, y_test),\n",
    "              shuffle=True)"
   ]
  },
  {
   "cell_type": "code",
   "execution_count": null,
   "id": "north-leonard",
   "metadata": {},
   "outputs": [],
   "source": []
  },
  {
   "cell_type": "code",
   "execution_count": 40,
   "id": "tough-radical",
   "metadata": {},
   "outputs": [
    {
     "data": {
      "image/png": "[encoded data removed]",
      "text/plain": [
       "<Figure size 600x400 with 1 Axes>"
      ]
     },
     "metadata": {
      "needs_background": "light"
     },
     "output_type": "display_data"
    },
    {
     "data": {
      "image/png": "[encoded data removed]",
      "text/plain": [
       "<Figure size 600x400 with 1 Axes>"
      ]
     },
     "metadata": {
      "needs_background": "light"
     },
     "output_type": "display_data"
    }
   ],
   "source": [
    "import matplotlib.pyplot as plt\n",
    "# 绘制训练 & 验证的准确率值\n",
    "plt.figure(dpi=100)\n",
    "plt.plot(history.history['accuracy'])\n",
    "plt.plot(history.history['val_accuracy'])\n",
    "plt.title('Model accuracy')\n",
    "plt.ylabel('Accuracy')\n",
    "plt.xlabel('Epoch')\n",
    "plt.ylim([0,1])\n",
    "plt.legend(['Train', 'Valid'], loc='upper left')\n",
    "plt.savefig('tradition_cnn_valid_acc.png')\n",
    "plt.show()\n",
    "\n",
    "# 绘制训练 & 验证的损失值\n",
    "plt.figure(dpi=100)\n",
    "plt.plot(history.history['loss'])\n",
    "plt.plot(history.history['val_loss'])\n",
    "plt.title('Model loss')\n",
    "plt.ylabel('Loss')\n",
    "plt.ylim([0,2])\n",
    "plt.xlabel('Epoch')\n",
    "plt.legend(['Train', 'Valid'], loc='upper left')\n",
    "plt.savefig('tradition_cnn_valid_loss.png')\n",
    "plt.show()"
   ]
  },
  {
   "cell_type": "code",
   "execution_count": 45,
   "id": "allied-merit",
   "metadata": {},
   "outputs": [
    {
     "name": "stdout",
     "output_type": "stream",
     "text": [
      "WARNING:tensorflow:Entity <function Function._initialize_uninitialized_variables.<locals>.initialize_variables at 0x0000027EF8F405E8> could not be transformed and will be executed as-is. Please report this to the AutoGraph team. When filing the bug, set the verbosity to 10 (on Linux, `export AUTOGRAPH_VERBOSITY=10`) and attach the full output. Cause: module 'gast' has no attribute 'Num'\n",
      "WARNING: Entity <function Function._initialize_uninitialized_variables.<locals>.initialize_variables at 0x0000027EF8F405E8> could not be transformed and will be executed as-is. Please report this to the AutoGraph team. When filing the bug, set the verbosity to 10 (on Linux, `export AUTOGRAPH_VERBOSITY=10`) and attach the full output. Cause: module 'gast' has no attribute 'Num'\n",
      "WARNING:tensorflow:Entity <function Function._initialize_uninitialized_variables.<locals>.initialize_variables at 0x0000027E611EE678> could not be transformed and will be executed as-is. Please report this to the AutoGraph team. When filing the bug, set the verbosity to 10 (on Linux, `export AUTOGRAPH_VERBOSITY=10`) and attach the full output. Cause: module 'gast' has no attribute 'Num'\n",
      "WARNING: Entity <function Function._initialize_uninitialized_variables.<locals>.initialize_variables at 0x0000027E611EE678> could not be transformed and will be executed as-is. Please report this to the AutoGraph team. When filing the bug, set the verbosity to 10 (on Linux, `export AUTOGRAPH_VERBOSITY=10`) and attach the full output. Cause: module 'gast' has no attribute 'Num'\n",
      "WARNING:tensorflow:Entity <function Function._initialize_uninitialized_variables.<locals>.initialize_variables at 0x0000027EF9578678> could not be transformed and will be executed as-is. Please report this to the AutoGraph team. When filing the bug, set the verbosity to 10 (on Linux, `export AUTOGRAPH_VERBOSITY=10`) and attach the full output. Cause: module 'gast' has no attribute 'Num'\n",
      "WARNING: Entity <function Function._initialize_uninitialized_variables.<locals>.initialize_variables at 0x0000027EF9578678> could not be transformed and will be executed as-is. Please report this to the AutoGraph team. When filing the bug, set the verbosity to 10 (on Linux, `export AUTOGRAPH_VERBOSITY=10`) and attach the full output. Cause: module 'gast' has no attribute 'Num'\n",
      "WARNING:tensorflow:Entity <function Function._initialize_uninitialized_variables.<locals>.initialize_variables at 0x0000027EE2F32048> could not be transformed and will be executed as-is. Please report this to the AutoGraph team. When filing the bug, set the verbosity to 10 (on Linux, `export AUTOGRAPH_VERBOSITY=10`) and attach the full output. Cause: module 'gast' has no attribute 'Num'\n",
      "WARNING: Entity <function Function._initialize_uninitialized_variables.<locals>.initialize_variables at 0x0000027EE2F32048> could not be transformed and will be executed as-is. Please report this to the AutoGraph team. When filing the bug, set the verbosity to 10 (on Linux, `export AUTOGRAPH_VERBOSITY=10`) and attach the full output. Cause: module 'gast' has no attribute 'Num'\n",
      "WARNING:tensorflow:Entity <function Function._initialize_uninitialized_variables.<locals>.initialize_variables at 0x0000027EE2F32948> could not be transformed and will be executed as-is. Please report this to the AutoGraph team. When filing the bug, set the verbosity to 10 (on Linux, `export AUTOGRAPH_VERBOSITY=10`) and attach the full output. Cause: module 'gast' has no attribute 'Num'\n",
      "WARNING: Entity <function Function._initialize_uninitialized_variables.<locals>.initialize_variables at 0x0000027EE2F32948> could not be transformed and will be executed as-is. Please report this to the AutoGraph team. When filing the bug, set the verbosity to 10 (on Linux, `export AUTOGRAPH_VERBOSITY=10`) and attach the full output. Cause: module 'gast' has no attribute 'Num'\n",
      "WARNING:tensorflow:Entity <function Function._initialize_uninitialized_variables.<locals>.initialize_variables at 0x0000027EF8D02318> could not be transformed and will be executed as-is. Please report this to the AutoGraph team. When filing the bug, set the verbosity to 10 (on Linux, `export AUTOGRAPH_VERBOSITY=10`) and attach the full output. Cause: module 'gast' has no attribute 'Num'\n",
      "WARNING: Entity <function Function._initialize_uninitialized_variables.<locals>.initialize_variables at 0x0000027EF8D02318> could not be transformed and will be executed as-is. Please report this to the AutoGraph team. When filing the bug, set the verbosity to 10 (on Linux, `export AUTOGRAPH_VERBOSITY=10`) and attach the full output. Cause: module 'gast' has no attribute 'Num'\n",
      "WARNING:tensorflow:Entity <function Function._initialize_uninitialized_variables.<locals>.initialize_variables at 0x0000027EE5E2D048> could not be transformed and will be executed as-is. Please report this to the AutoGraph team. When filing the bug, set the verbosity to 10 (on Linux, `export AUTOGRAPH_VERBOSITY=10`) and attach the full output. Cause: module 'gast' has no attribute 'Num'\n",
      "WARNING: Entity <function Function._initialize_uninitialized_variables.<locals>.initialize_variables at 0x0000027EE5E2D048> could not be transformed and will be executed as-is. Please report this to the AutoGraph team. When filing the bug, set the verbosity to 10 (on Linux, `export AUTOGRAPH_VERBOSITY=10`) and attach the full output. Cause: module 'gast' has no attribute 'Num'\n",
      "WARNING:tensorflow:Entity <function Function._initialize_uninitialized_variables.<locals>.initialize_variables at 0x0000027EF8D02C18> could not be transformed and will be executed as-is. Please report this to the AutoGraph team. When filing the bug, set the verbosity to 10 (on Linux, `export AUTOGRAPH_VERBOSITY=10`) and attach the full output. Cause: module 'gast' has no attribute 'Num'\n",
      "WARNING: Entity <function Function._initialize_uninitialized_variables.<locals>.initialize_variables at 0x0000027EF8D02C18> could not be transformed and will be executed as-is. Please report this to the AutoGraph team. When filing the bug, set the verbosity to 10 (on Linux, `export AUTOGRAPH_VERBOSITY=10`) and attach the full output. Cause: module 'gast' has no attribute 'Num'\n",
      "WARNING:tensorflow:Entity <function Function._initialize_uninitialized_variables.<locals>.initialize_variables at 0x0000027EE5E37678> could not be transformed and will be executed as-is. Please report this to the AutoGraph team. When filing the bug, set the verbosity to 10 (on Linux, `export AUTOGRAPH_VERBOSITY=10`) and attach the full output. Cause: module 'gast' has no attribute 'Num'\n",
      "WARNING: Entity <function Function._initialize_uninitialized_variables.<locals>.initialize_variables at 0x0000027EE5E37678> could not be transformed and will be executed as-is. Please report this to the AutoGraph team. When filing the bug, set the verbosity to 10 (on Linux, `export AUTOGRAPH_VERBOSITY=10`) and attach the full output. Cause: module 'gast' has no attribute 'Num'\n",
      "WARNING:tensorflow:Entity <function Function._initialize_uninitialized_variables.<locals>.initialize_variables at 0x0000027EF96EB048> could not be transformed and will be executed as-is. Please report this to the AutoGraph team. When filing the bug, set the verbosity to 10 (on Linux, `export AUTOGRAPH_VERBOSITY=10`) and attach the full output. Cause: module 'gast' has no attribute 'Num'\n",
      "WARNING: Entity <function Function._initialize_uninitialized_variables.<locals>.initialize_variables at 0x0000027EF96EB048> could not be transformed and will be executed as-is. Please report this to the AutoGraph team. When filing the bug, set the verbosity to 10 (on Linux, `export AUTOGRAPH_VERBOSITY=10`) and attach the full output. Cause: module 'gast' has no attribute 'Num'\n",
      "WARNING:tensorflow:Entity <function Function._initialize_uninitialized_variables.<locals>.initialize_variables at 0x0000027EF96EB948> could not be transformed and will be executed as-is. Please report this to the AutoGraph team. When filing the bug, set the verbosity to 10 (on Linux, `export AUTOGRAPH_VERBOSITY=10`) and attach the full output. Cause: module 'gast' has no attribute 'Num'\n",
      "WARNING: Entity <function Function._initialize_uninitialized_variables.<locals>.initialize_variables at 0x0000027EF96EB948> could not be transformed and will be executed as-is. Please report this to the AutoGraph team. When filing the bug, set the verbosity to 10 (on Linux, `export AUTOGRAPH_VERBOSITY=10`) and attach the full output. Cause: module 'gast' has no attribute 'Num'\n"
     ]
    },
    {
     "name": "stdout",
     "output_type": "stream",
     "text": [
      "WARNING:tensorflow:Entity <function Function._initialize_uninitialized_variables.<locals>.initialize_variables at 0x0000027EF9794318> could not be transformed and will be executed as-is. Please report this to the AutoGraph team. When filing the bug, set the verbosity to 10 (on Linux, `export AUTOGRAPH_VERBOSITY=10`) and attach the full output. Cause: module 'gast' has no attribute 'Num'\n",
      "WARNING: Entity <function Function._initialize_uninitialized_variables.<locals>.initialize_variables at 0x0000027EF9794318> could not be transformed and will be executed as-is. Please report this to the AutoGraph team. When filing the bug, set the verbosity to 10 (on Linux, `export AUTOGRAPH_VERBOSITY=10`) and attach the full output. Cause: module 'gast' has no attribute 'Num'\n",
      "WARNING:tensorflow:Entity <function Function._initialize_uninitialized_variables.<locals>.initialize_variables at 0x0000027EF97AF1F8> could not be transformed and will be executed as-is. Please report this to the AutoGraph team. When filing the bug, set the verbosity to 10 (on Linux, `export AUTOGRAPH_VERBOSITY=10`) and attach the full output. Cause: module 'gast' has no attribute 'Num'\n",
      "WARNING: Entity <function Function._initialize_uninitialized_variables.<locals>.initialize_variables at 0x0000027EF97AF1F8> could not be transformed and will be executed as-is. Please report this to the AutoGraph team. When filing the bug, set the verbosity to 10 (on Linux, `export AUTOGRAPH_VERBOSITY=10`) and attach the full output. Cause: module 'gast' has no attribute 'Num'\n",
      "WARNING:tensorflow:Entity <function Function._initialize_uninitialized_variables.<locals>.initialize_variables at 0x0000027EF9761438> could not be transformed and will be executed as-is. Please report this to the AutoGraph team. When filing the bug, set the verbosity to 10 (on Linux, `export AUTOGRAPH_VERBOSITY=10`) and attach the full output. Cause: module 'gast' has no attribute 'Num'\n",
      "WARNING: Entity <function Function._initialize_uninitialized_variables.<locals>.initialize_variables at 0x0000027EF9761438> could not be transformed and will be executed as-is. Please report this to the AutoGraph team. When filing the bug, set the verbosity to 10 (on Linux, `export AUTOGRAPH_VERBOSITY=10`) and attach the full output. Cause: module 'gast' has no attribute 'Num'\n",
      "WARNING:tensorflow:Entity <function Function._initialize_uninitialized_variables.<locals>.initialize_variables at 0x0000027EF97830D8> could not be transformed and will be executed as-is. Please report this to the AutoGraph team. When filing the bug, set the verbosity to 10 (on Linux, `export AUTOGRAPH_VERBOSITY=10`) and attach the full output. Cause: module 'gast' has no attribute 'Num'\n",
      "WARNING: Entity <function Function._initialize_uninitialized_variables.<locals>.initialize_variables at 0x0000027EF97830D8> could not be transformed and will be executed as-is. Please report this to the AutoGraph team. When filing the bug, set the verbosity to 10 (on Linux, `export AUTOGRAPH_VERBOSITY=10`) and attach the full output. Cause: module 'gast' has no attribute 'Num'\n",
      "WARNING:tensorflow:Entity <function Function._initialize_uninitialized_variables.<locals>.initialize_variables at 0x0000027EF9783CA8> could not be transformed and will be executed as-is. Please report this to the AutoGraph team. When filing the bug, set the verbosity to 10 (on Linux, `export AUTOGRAPH_VERBOSITY=10`) and attach the full output. Cause: module 'gast' has no attribute 'Num'\n",
      "WARNING: Entity <function Function._initialize_uninitialized_variables.<locals>.initialize_variables at 0x0000027EF9783CA8> could not be transformed and will be executed as-is. Please report this to the AutoGraph team. When filing the bug, set the verbosity to 10 (on Linux, `export AUTOGRAPH_VERBOSITY=10`) and attach the full output. Cause: module 'gast' has no attribute 'Num'\n",
      "WARNING:tensorflow:Entity <function Function._initialize_uninitialized_variables.<locals>.initialize_variables at 0x0000027EF971E5E8> could not be transformed and will be executed as-is. Please report this to the AutoGraph team. When filing the bug, set the verbosity to 10 (on Linux, `export AUTOGRAPH_VERBOSITY=10`) and attach the full output. Cause: module 'gast' has no attribute 'Num'\n",
      "WARNING: Entity <function Function._initialize_uninitialized_variables.<locals>.initialize_variables at 0x0000027EF971E5E8> could not be transformed and will be executed as-is. Please report this to the AutoGraph team. When filing the bug, set the verbosity to 10 (on Linux, `export AUTOGRAPH_VERBOSITY=10`) and attach the full output. Cause: module 'gast' has no attribute 'Num'\n",
      "WARNING:tensorflow:Entity <function Function._initialize_uninitialized_variables.<locals>.initialize_variables at 0x0000027EF971E828> could not be transformed and will be executed as-is. Please report this to the AutoGraph team. When filing the bug, set the verbosity to 10 (on Linux, `export AUTOGRAPH_VERBOSITY=10`) and attach the full output. Cause: module 'gast' has no attribute 'Num'\n",
      "WARNING: Entity <function Function._initialize_uninitialized_variables.<locals>.initialize_variables at 0x0000027EF971E828> could not be transformed and will be executed as-is. Please report this to the AutoGraph team. When filing the bug, set the verbosity to 10 (on Linux, `export AUTOGRAPH_VERBOSITY=10`) and attach the full output. Cause: module 'gast' has no attribute 'Num'\n",
      "WARNING:tensorflow:Entity <function Function._initialize_uninitialized_variables.<locals>.initialize_variables at 0x0000027EF9761E58> could not be transformed and will be executed as-is. Please report this to the AutoGraph team. When filing the bug, set the verbosity to 10 (on Linux, `export AUTOGRAPH_VERBOSITY=10`) and attach the full output. Cause: module 'gast' has no attribute 'Num'\n",
      "WARNING: Entity <function Function._initialize_uninitialized_variables.<locals>.initialize_variables at 0x0000027EF9761E58> could not be transformed and will be executed as-is. Please report this to the AutoGraph team. When filing the bug, set the verbosity to 10 (on Linux, `export AUTOGRAPH_VERBOSITY=10`) and attach the full output. Cause: module 'gast' has no attribute 'Num'\n",
      "WARNING:tensorflow:Entity <function Function._initialize_uninitialized_variables.<locals>.initialize_variables at 0x0000027EF910C798> could not be transformed and will be executed as-is. Please report this to the AutoGraph team. When filing the bug, set the verbosity to 10 (on Linux, `export AUTOGRAPH_VERBOSITY=10`) and attach the full output. Cause: module 'gast' has no attribute 'Num'\n",
      "WARNING: Entity <function Function._initialize_uninitialized_variables.<locals>.initialize_variables at 0x0000027EF910C798> could not be transformed and will be executed as-is. Please report this to the AutoGraph team. When filing the bug, set the verbosity to 10 (on Linux, `export AUTOGRAPH_VERBOSITY=10`) and attach the full output. Cause: module 'gast' has no attribute 'Num'\n",
      "WARNING:tensorflow:Entity <function Function._initialize_uninitialized_variables.<locals>.initialize_variables at 0x0000027EF90F20D8> could not be transformed and will be executed as-is. Please report this to the AutoGraph team. When filing the bug, set the verbosity to 10 (on Linux, `export AUTOGRAPH_VERBOSITY=10`) and attach the full output. Cause: module 'gast' has no attribute 'Num'\n",
      "WARNING: Entity <function Function._initialize_uninitialized_variables.<locals>.initialize_variables at 0x0000027EF90F20D8> could not be transformed and will be executed as-is. Please report this to the AutoGraph team. When filing the bug, set the verbosity to 10 (on Linux, `export AUTOGRAPH_VERBOSITY=10`) and attach the full output. Cause: module 'gast' has no attribute 'Num'\n",
      "WARNING:tensorflow:Entity <function Function._initialize_uninitialized_variables.<locals>.initialize_variables at 0x0000027EF90BD4C8> could not be transformed and will be executed as-is. Please report this to the AutoGraph team. When filing the bug, set the verbosity to 10 (on Linux, `export AUTOGRAPH_VERBOSITY=10`) and attach the full output. Cause: module 'gast' has no attribute 'Num'\n",
      "WARNING: Entity <function Function._initialize_uninitialized_variables.<locals>.initialize_variables at 0x0000027EF90BD4C8> could not be transformed and will be executed as-is. Please report this to the AutoGraph team. When filing the bug, set the verbosity to 10 (on Linux, `export AUTOGRAPH_VERBOSITY=10`) and attach the full output. Cause: module 'gast' has no attribute 'Num'\n",
      "WARNING:tensorflow:Entity <function Function._initialize_uninitialized_variables.<locals>.initialize_variables at 0x0000027EF9032E58> could not be transformed and will be executed as-is. Please report this to the AutoGraph team. When filing the bug, set the verbosity to 10 (on Linux, `export AUTOGRAPH_VERBOSITY=10`) and attach the full output. Cause: module 'gast' has no attribute 'Num'\n"
     ]
    },
    {
     "name": "stdout",
     "output_type": "stream",
     "text": [
      "WARNING: Entity <function Function._initialize_uninitialized_variables.<locals>.initialize_variables at 0x0000027EF9032E58> could not be transformed and will be executed as-is. Please report this to the AutoGraph team. When filing the bug, set the verbosity to 10 (on Linux, `export AUTOGRAPH_VERBOSITY=10`) and attach the full output. Cause: module 'gast' has no attribute 'Num'\n",
      "WARNING:tensorflow:Entity <function Function._initialize_uninitialized_variables.<locals>.initialize_variables at 0x0000027EF9032948> could not be transformed and will be executed as-is. Please report this to the AutoGraph team. When filing the bug, set the verbosity to 10 (on Linux, `export AUTOGRAPH_VERBOSITY=10`) and attach the full output. Cause: module 'gast' has no attribute 'Num'\n",
      "WARNING: Entity <function Function._initialize_uninitialized_variables.<locals>.initialize_variables at 0x0000027EF9032948> could not be transformed and will be executed as-is. Please report this to the AutoGraph team. When filing the bug, set the verbosity to 10 (on Linux, `export AUTOGRAPH_VERBOSITY=10`) and attach the full output. Cause: module 'gast' has no attribute 'Num'\n",
      "WARNING:tensorflow:Entity <function Function._initialize_uninitialized_variables.<locals>.initialize_variables at 0x0000027EF90BD318> could not be transformed and will be executed as-is. Please report this to the AutoGraph team. When filing the bug, set the verbosity to 10 (on Linux, `export AUTOGRAPH_VERBOSITY=10`) and attach the full output. Cause: module 'gast' has no attribute 'Num'\n",
      "WARNING: Entity <function Function._initialize_uninitialized_variables.<locals>.initialize_variables at 0x0000027EF90BD318> could not be transformed and will be executed as-is. Please report this to the AutoGraph team. When filing the bug, set the verbosity to 10 (on Linux, `export AUTOGRAPH_VERBOSITY=10`) and attach the full output. Cause: module 'gast' has no attribute 'Num'\n",
      "WARNING:tensorflow:Entity <function Function._initialize_uninitialized_variables.<locals>.initialize_variables at 0x0000027EF8D84C18> could not be transformed and will be executed as-is. Please report this to the AutoGraph team. When filing the bug, set the verbosity to 10 (on Linux, `export AUTOGRAPH_VERBOSITY=10`) and attach the full output. Cause: module 'gast' has no attribute 'Num'\n",
      "WARNING: Entity <function Function._initialize_uninitialized_variables.<locals>.initialize_variables at 0x0000027EF8D84C18> could not be transformed and will be executed as-is. Please report this to the AutoGraph team. When filing the bug, set the verbosity to 10 (on Linux, `export AUTOGRAPH_VERBOSITY=10`) and attach the full output. Cause: module 'gast' has no attribute 'Num'\n",
      "WARNING:tensorflow:Entity <function Function._initialize_uninitialized_variables.<locals>.initialize_variables at 0x0000027EE2E11B88> could not be transformed and will be executed as-is. Please report this to the AutoGraph team. When filing the bug, set the verbosity to 10 (on Linux, `export AUTOGRAPH_VERBOSITY=10`) and attach the full output. Cause: module 'gast' has no attribute 'Num'\n",
      "WARNING: Entity <function Function._initialize_uninitialized_variables.<locals>.initialize_variables at 0x0000027EE2E11B88> could not be transformed and will be executed as-is. Please report this to the AutoGraph team. When filing the bug, set the verbosity to 10 (on Linux, `export AUTOGRAPH_VERBOSITY=10`) and attach the full output. Cause: module 'gast' has no attribute 'Num'\n",
      "WARNING:tensorflow:Entity <function Function._initialize_uninitialized_variables.<locals>.initialize_variables at 0x0000027EE2E11048> could not be transformed and will be executed as-is. Please report this to the AutoGraph team. When filing the bug, set the verbosity to 10 (on Linux, `export AUTOGRAPH_VERBOSITY=10`) and attach the full output. Cause: module 'gast' has no attribute 'Num'\n",
      "WARNING: Entity <function Function._initialize_uninitialized_variables.<locals>.initialize_variables at 0x0000027EE2E11048> could not be transformed and will be executed as-is. Please report this to the AutoGraph team. When filing the bug, set the verbosity to 10 (on Linux, `export AUTOGRAPH_VERBOSITY=10`) and attach the full output. Cause: module 'gast' has no attribute 'Num'\n",
      "WARNING:tensorflow:Entity <function Function._initialize_uninitialized_variables.<locals>.initialize_variables at 0x0000027EF8E8C708> could not be transformed and will be executed as-is. Please report this to the AutoGraph team. When filing the bug, set the verbosity to 10 (on Linux, `export AUTOGRAPH_VERBOSITY=10`) and attach the full output. Cause: module 'gast' has no attribute 'Num'\n",
      "WARNING: Entity <function Function._initialize_uninitialized_variables.<locals>.initialize_variables at 0x0000027EF8E8C708> could not be transformed and will be executed as-is. Please report this to the AutoGraph team. When filing the bug, set the verbosity to 10 (on Linux, `export AUTOGRAPH_VERBOSITY=10`) and attach the full output. Cause: module 'gast' has no attribute 'Num'\n",
      "WARNING:tensorflow:Entity <function Function._initialize_uninitialized_variables.<locals>.initialize_variables at 0x0000027EF8E8C678> could not be transformed and will be executed as-is. Please report this to the AutoGraph team. When filing the bug, set the verbosity to 10 (on Linux, `export AUTOGRAPH_VERBOSITY=10`) and attach the full output. Cause: module 'gast' has no attribute 'Num'\n",
      "WARNING: Entity <function Function._initialize_uninitialized_variables.<locals>.initialize_variables at 0x0000027EF8E8C678> could not be transformed and will be executed as-is. Please report this to the AutoGraph team. When filing the bug, set the verbosity to 10 (on Linux, `export AUTOGRAPH_VERBOSITY=10`) and attach the full output. Cause: module 'gast' has no attribute 'Num'\n",
      "WARNING:tensorflow:Entity <function Function._initialize_uninitialized_variables.<locals>.initialize_variables at 0x0000027EF981A8B8> could not be transformed and will be executed as-is. Please report this to the AutoGraph team. When filing the bug, set the verbosity to 10 (on Linux, `export AUTOGRAPH_VERBOSITY=10`) and attach the full output. Cause: module 'gast' has no attribute 'Num'\n",
      "WARNING: Entity <function Function._initialize_uninitialized_variables.<locals>.initialize_variables at 0x0000027EF981A8B8> could not be transformed and will be executed as-is. Please report this to the AutoGraph team. When filing the bug, set the verbosity to 10 (on Linux, `export AUTOGRAPH_VERBOSITY=10`) and attach the full output. Cause: module 'gast' has no attribute 'Num'\n",
      "WARNING:tensorflow:Entity <function Function._initialize_uninitialized_variables.<locals>.initialize_variables at 0x0000027EF981AAF8> could not be transformed and will be executed as-is. Please report this to the AutoGraph team. When filing the bug, set the verbosity to 10 (on Linux, `export AUTOGRAPH_VERBOSITY=10`) and attach the full output. Cause: module 'gast' has no attribute 'Num'\n",
      "WARNING: Entity <function Function._initialize_uninitialized_variables.<locals>.initialize_variables at 0x0000027EF981AAF8> could not be transformed and will be executed as-is. Please report this to the AutoGraph team. When filing the bug, set the verbosity to 10 (on Linux, `export AUTOGRAPH_VERBOSITY=10`) and attach the full output. Cause: module 'gast' has no attribute 'Num'\n",
      "WARNING:tensorflow:Entity <function Function._initialize_uninitialized_variables.<locals>.initialize_variables at 0x0000027EF92C7288> could not be transformed and will be executed as-is. Please report this to the AutoGraph team. When filing the bug, set the verbosity to 10 (on Linux, `export AUTOGRAPH_VERBOSITY=10`) and attach the full output. Cause: module 'gast' has no attribute 'Num'\n",
      "WARNING: Entity <function Function._initialize_uninitialized_variables.<locals>.initialize_variables at 0x0000027EF92C7288> could not be transformed and will be executed as-is. Please report this to the AutoGraph team. When filing the bug, set the verbosity to 10 (on Linux, `export AUTOGRAPH_VERBOSITY=10`) and attach the full output. Cause: module 'gast' has no attribute 'Num'\n",
      "WARNING:tensorflow:Entity <function Function._initialize_uninitialized_variables.<locals>.initialize_variables at 0x0000027EF92C7DC8> could not be transformed and will be executed as-is. Please report this to the AutoGraph team. When filing the bug, set the verbosity to 10 (on Linux, `export AUTOGRAPH_VERBOSITY=10`) and attach the full output. Cause: module 'gast' has no attribute 'Num'\n"
     ]
    },
    {
     "name": "stdout",
     "output_type": "stream",
     "text": [
      "WARNING: Entity <function Function._initialize_uninitialized_variables.<locals>.initialize_variables at 0x0000027EF92C7DC8> could not be transformed and will be executed as-is. Please report this to the AutoGraph team. When filing the bug, set the verbosity to 10 (on Linux, `export AUTOGRAPH_VERBOSITY=10`) and attach the full output. Cause: module 'gast' has no attribute 'Num'\n",
      "WARNING:tensorflow:Entity <function Function._initialize_uninitialized_variables.<locals>.initialize_variables at 0x0000027EF8FBAD38> could not be transformed and will be executed as-is. Please report this to the AutoGraph team. When filing the bug, set the verbosity to 10 (on Linux, `export AUTOGRAPH_VERBOSITY=10`) and attach the full output. Cause: module 'gast' has no attribute 'Num'\n",
      "WARNING: Entity <function Function._initialize_uninitialized_variables.<locals>.initialize_variables at 0x0000027EF8FBAD38> could not be transformed and will be executed as-is. Please report this to the AutoGraph team. When filing the bug, set the verbosity to 10 (on Linux, `export AUTOGRAPH_VERBOSITY=10`) and attach the full output. Cause: module 'gast' has no attribute 'Num'\n",
      "WARNING:tensorflow:Entity <function Function._initialize_uninitialized_variables.<locals>.initialize_variables at 0x0000027EF8F9EC18> could not be transformed and will be executed as-is. Please report this to the AutoGraph team. When filing the bug, set the verbosity to 10 (on Linux, `export AUTOGRAPH_VERBOSITY=10`) and attach the full output. Cause: module 'gast' has no attribute 'Num'\n",
      "WARNING: Entity <function Function._initialize_uninitialized_variables.<locals>.initialize_variables at 0x0000027EF8F9EC18> could not be transformed and will be executed as-is. Please report this to the AutoGraph team. When filing the bug, set the verbosity to 10 (on Linux, `export AUTOGRAPH_VERBOSITY=10`) and attach the full output. Cause: module 'gast' has no attribute 'Num'\n",
      "WARNING:tensorflow:Entity <function Function._initialize_uninitialized_variables.<locals>.initialize_variables at 0x0000027EF9407048> could not be transformed and will be executed as-is. Please report this to the AutoGraph team. When filing the bug, set the verbosity to 10 (on Linux, `export AUTOGRAPH_VERBOSITY=10`) and attach the full output. Cause: module 'gast' has no attribute 'Num'\n",
      "WARNING: Entity <function Function._initialize_uninitialized_variables.<locals>.initialize_variables at 0x0000027EF9407048> could not be transformed and will be executed as-is. Please report this to the AutoGraph team. When filing the bug, set the verbosity to 10 (on Linux, `export AUTOGRAPH_VERBOSITY=10`) and attach the full output. Cause: module 'gast' has no attribute 'Num'\n",
      "WARNING:tensorflow:Entity <function Function._initialize_uninitialized_variables.<locals>.initialize_variables at 0x0000027EF9755948> could not be transformed and will be executed as-is. Please report this to the AutoGraph team. When filing the bug, set the verbosity to 10 (on Linux, `export AUTOGRAPH_VERBOSITY=10`) and attach the full output. Cause: module 'gast' has no attribute 'Num'\n",
      "WARNING: Entity <function Function._initialize_uninitialized_variables.<locals>.initialize_variables at 0x0000027EF9755948> could not be transformed and will be executed as-is. Please report this to the AutoGraph team. When filing the bug, set the verbosity to 10 (on Linux, `export AUTOGRAPH_VERBOSITY=10`) and attach the full output. Cause: module 'gast' has no attribute 'Num'\n",
      "WARNING:tensorflow:Entity <function Function._initialize_uninitialized_variables.<locals>.initialize_variables at 0x0000027EF9407F78> could not be transformed and will be executed as-is. Please report this to the AutoGraph team. When filing the bug, set the verbosity to 10 (on Linux, `export AUTOGRAPH_VERBOSITY=10`) and attach the full output. Cause: module 'gast' has no attribute 'Num'\n",
      "WARNING: Entity <function Function._initialize_uninitialized_variables.<locals>.initialize_variables at 0x0000027EF9407F78> could not be transformed and will be executed as-is. Please report this to the AutoGraph team. When filing the bug, set the verbosity to 10 (on Linux, `export AUTOGRAPH_VERBOSITY=10`) and attach the full output. Cause: module 'gast' has no attribute 'Num'\n",
      "WARNING:tensorflow:Entity <function canonicalize_signatures.<locals>.signature_wrapper at 0x0000027E5C8D5678> could not be transformed and will be executed as-is. Please report this to the AutoGraph team. When filing the bug, set the verbosity to 10 (on Linux, `export AUTOGRAPH_VERBOSITY=10`) and attach the full output. Cause: Bad argument number for Name: 3, expecting 4\n",
      "WARNING: Entity <function canonicalize_signatures.<locals>.signature_wrapper at 0x0000027E5C8D5678> could not be transformed and will be executed as-is. Please report this to the AutoGraph team. When filing the bug, set the verbosity to 10 (on Linux, `export AUTOGRAPH_VERBOSITY=10`) and attach the full output. Cause: Bad argument number for Name: 3, expecting 4\n",
      "WARNING:tensorflow:Entity <function Function._initialize_uninitialized_variables.<locals>.initialize_variables at 0x0000027EF962D9D8> could not be transformed and will be executed as-is. Please report this to the AutoGraph team. When filing the bug, set the verbosity to 10 (on Linux, `export AUTOGRAPH_VERBOSITY=10`) and attach the full output. Cause: module 'gast' has no attribute 'Num'\n",
      "WARNING: Entity <function Function._initialize_uninitialized_variables.<locals>.initialize_variables at 0x0000027EF962D9D8> could not be transformed and will be executed as-is. Please report this to the AutoGraph team. When filing the bug, set the verbosity to 10 (on Linux, `export AUTOGRAPH_VERBOSITY=10`) and attach the full output. Cause: module 'gast' has no attribute 'Num'\n",
      "WARNING:tensorflow:From C:\\Users\\super qing\\Anaconda3\\lib\\site-packages\\tensorflow_core\\python\\ops\\resource_variable_ops.py:1781: calling BaseResourceVariable.__init__ (from tensorflow.python.ops.resource_variable_ops) with constraint is deprecated and will be removed in a future version.\n",
      "Instructions for updating:\n",
      "If using Keras pass *_constraint arguments to layers.\n",
      "INFO:tensorflow:Assets written to: densenet\\assets\n"
     ]
    }
   ],
   "source": [
    "tf.saved_model.save(model,'densenet')  \n",
    "#way2 保存model成 .h5格式 里面包含了模型结构和训练好的模型参数\n",
    "model.save('densenet.h5')"
   ]
  },
  {
   "cell_type": "code",
   "execution_count": 2,
   "id": "entertaining-survival",
   "metadata": {},
   "outputs": [
    {
     "name": "stderr",
     "output_type": "stream",
     "text": [
      "C:\\Users\\super qing\\Anaconda3\\lib\\site-packages\\pandas\\core\\indexing.py:1418: FutureWarning: \n",
      "Passing list-likes to .loc or [] with any missing label will raise\n",
      "KeyError in the future, you can use .reindex() as an alternative.\n",
      "\n",
      "See the documentation here:\n",
      "https://pandas.pydata.org/pandas-docs/stable/user_guide/indexing.html#deprecate-loc-reindex-listlike\n",
      "  return self._getitem_tuple(key)\n"
     ]
    }
   ],
   "source": [
    "#读表\n",
    "#用于训练GBDT\n",
    "import pandas as pd\n",
    "import numpy as np\n",
    "data2 = pd.read_excel('E:/2021MCM_ProblemC_Files/2021_MCM_Problem_C_Data/2021MCM_ProblemC_ Images_by_GlobalID.xlsx')\n",
    "shu= pd.read_excel('E:/2021MCM_ProblemC_Files/2021_MCM_Problem_C_Data/1.xlsx')\n",
    "\n",
    "yu=pd.merge(shu.loc[:,['GlobalID','wen','Lab Status']],data2.loc[:,['GlobalID','FileName']], how='left', on=['GlobalID'])\n",
    "yu.FileName.fillna(str('bai.jpg'),inplace=True)"
   ]
  },
  {
   "cell_type": "code",
   "execution_count": 3,
   "id": "super-attention",
   "metadata": {},
   "outputs": [
    {
     "data": {
      "text/plain": [
       "5536"
      ]
     },
     "execution_count": 3,
     "metadata": {},
     "output_type": "execute_result"
    }
   ],
   "source": [
    "x=yu['FileName'].tolist()\n",
    "len(x)"
   ]
  },
  {
   "cell_type": "code",
   "execution_count": null,
   "id": "imported-egyptian",
   "metadata": {
    "scrolled": true
   },
   "outputs": [],
   "source": []
  },
  {
   "cell_type": "code",
   "execution_count": 16,
   "id": "incorporate-point",
   "metadata": {
    "collapsed": true
   },
   "outputs": [
    {
     "name": "stdout",
     "output_type": "stream",
     "text": [
      "E:/2021MCM_ProblemC_Files/2021MCM_ProblemC_Files/ATT46_trim.75A56855-B3BF-4B3D-8E9F-3E34CE90D8FB.jpg  101\n",
      "E:/2021MCM_ProblemC_Files/2021MCM_ProblemC_Files/ATT56_trim.3077122A-A53F-4956-A536-8DFBEBD3CC56.jpg  119\n",
      "E:/2021MCM_ProblemC_Files/2021MCM_ProblemC_Files/ATT174_trim.B1F11C96-C2F8-4401-AC39-E41EC93ED758.jpg  737\n",
      "E:/2021MCM_ProblemC_Files/2021MCM_ProblemC_Files/ATT255_ASIAN GIANT HORNET_ 2020 0524 2.26 pm (Combined Clip).jpg  867\n",
      "E:/2021MCM_ProblemC_Files/2021MCM_ProblemC_Files/ATT260_trim.9CD5B8C5-CBCC-4EAE-AB2D-3E2D2C169F7B.jpg  874\n",
      "E:/2021MCM_ProblemC_Files/2021MCM_ProblemC_Files/ATT302_trim.146B941C-A15C-43F2-BDC0-25D2288D933C.jpg  935\n",
      "E:/2021MCM_ProblemC_Files/2021MCM_ProblemC_Files/ATT303_email Potential Asian Murder Hornet Sighting.jpg  939\n",
      "E:/2021MCM_ProblemC_Files/2021MCM_ProblemC_Files/ATT349_inbound45722360591262683.jpg  1013\n",
      "E:/2021MCM_ProblemC_Files/2021MCM_ProblemC_Files/ATT439_trim.52424BC0-74B6-4E5F-8ED0-A41999D6D21C.jpg  1147\n",
      "E:/2021MCM_ProblemC_Files/2021MCM_ProblemC_Files/ATT440_trim.53B98CCF-514C-4F76-A452-8AB789111344.jpg  1148\n",
      "E:/2021MCM_ProblemC_Files/2021MCM_ProblemC_Files/ATT466_IMG_5501.jpg  1186\n",
      "E:/2021MCM_ProblemC_Files/2021MCM_ProblemC_Files/ATT471_MURDER HORNET  1192\n",
      "E:/2021MCM_ProblemC_Files/2021MCM_ProblemC_Files/ATT550_trim.E3D66E16-0584-455E-AB4A-28634660BE89.jpg  1291\n",
      "E:/2021MCM_ProblemC_Files/2021MCM_ProblemC_Files/ATT551_trim.27A74D5B-9FA5-4DD9-8433-B2132767F1CC.jpg  1292\n",
      "E:/2021MCM_ProblemC_Files/2021MCM_ProblemC_Files/ATT552_trim.FA8319EE-C1C3-4AD8-83F8-0B964E111F16.jpg  1293\n",
      "E:/2021MCM_ProblemC_Files/2021MCM_ProblemC_Files/ATT553_trim.55AD15A2-983D-44DC-BA19-8955F2C74DBC.jpg  1294\n",
      "E:/2021MCM_ProblemC_Files/2021MCM_ProblemC_Files/ATT652_trim.D6D9C1B6-9792-4AD0-9EAC-2676D4139DDB.jpg  1446\n",
      "E:/2021MCM_ProblemC_Files/2021MCM_ProblemC_Files/ATT743_trim.9E29DE40-A7A1-45E8-9BCE-5ED0880D6BE7.jpg  1587\n",
      "E:/2021MCM_ProblemC_Files/2021MCM_ProblemC_Files/ATT756_Giant Hornet Alive in Jar.jpg  1604\n",
      "E:/2021MCM_ProblemC_Files/2021MCM_ProblemC_Files/ATT801_trim.D2295990-07CA-4DA5-B20A-0A1B6B57DC35.jpg  1670\n",
      "E:/2021MCM_ProblemC_Files/2021MCM_ProblemC_Files/ATT804_trim.DB1BA0FB-A685-494E-A93C-449AB2ABB5EE.jpg  1673\n",
      "E:/2021MCM_ProblemC_Files/2021MCM_ProblemC_Files/ATT835_trim.02CA9805-8DC3-450F-9E65-F2E974CF4836.jpg  1708\n",
      "E:/2021MCM_ProblemC_Files/2021MCM_ProblemC_Files/ATT847_trim.236B081A-D7D1-4803-910B-3B954A39372E.jpg  1728\n",
      "E:/2021MCM_ProblemC_Files/2021MCM_ProblemC_Files/ATT871_trim.C957B1D8-4F2B-4C63-9062-17707EC2E349.jpg  1754\n",
      "E:/2021MCM_ProblemC_Files/2021MCM_ProblemC_Files/ATT978_trim.4D2DC98C-F8CC-4C28-BCBF-7FE71EAB4278.jpg  1914\n",
      "E:/2021MCM_ProblemC_Files/2021MCM_ProblemC_Files/ATT1046_trim.4D5547B4-E26F-401B-AE16-650AB551A8FB.jpg  2022\n",
      "E:/2021MCM_ProblemC_Files/2021MCM_ProblemC_Files/ATT1048_What is this.jpg  2031\n",
      "E:/2021MCM_ProblemC_Files/2021MCM_ProblemC_Files/ATT1174_trim.4E4C6290-2B1F-40C8-9D6A-3B247DEF10E9.jpg  2222\n",
      "E:/2021MCM_ProblemC_Files/2021MCM_ProblemC_Files/ATT1255_trim.B36B73FF-30E1-4BFE-B336-2F55A24B8A36.jpg  2339\n",
      "E:/2021MCM_ProblemC_Files/2021MCM_ProblemC_Files/ATT1256_trim.E9F9697F-BA7A-4D03-ACC4-10A188C05A93.jpg  2340\n",
      "E:/2021MCM_ProblemC_Files/2021MCM_ProblemC_Files/ATT1340_trim.68D92F73-2F48-441B-99C5-5EDCDD131FB7.jpg  2469\n",
      "E:/2021MCM_ProblemC_Files/2021MCM_ProblemC_Files/ATT1378_AmazonPhotos.jpg  2524\n",
      "E:/2021MCM_ProblemC_Files/2021MCM_ProblemC_Files/ATT1379_trim.A3E1F52D-6E98-410E-99C0-A66B2A9177E7.jpg  2525\n",
      "E:/2021MCM_ProblemC_Files/2021MCM_ProblemC_Files/ATT1422_trim.01C2796D-A346-428E-BB17-F4CA86C7DCAB.jpg  2599\n",
      "E:/2021MCM_ProblemC_Files/2021MCM_ProblemC_Files/ATT1527_trim.A95B0E90-E4CE-4513-B877-EFD7B748D27F.jpg  2783\n",
      "E:/2021MCM_ProblemC_Files/2021MCM_ProblemC_Files/ATT1618_trim.892BE6FA-6820-4DCE-9D95-DC97AF118561.jpg  2932\n",
      "E:/2021MCM_ProblemC_Files/2021MCM_ProblemC_Files/ATT1637_trim.E9B81BB7-C062-492B-816A-770B33B0C24B.jpg  2962\n",
      "E:/2021MCM_ProblemC_Files/2021MCM_ProblemC_Files/ATT1653_trim.230ED23B-3B14-4F19-9FC5-B2884361AB90.jpg  2986\n",
      "E:/2021MCM_ProblemC_Files/2021MCM_ProblemC_Files/ATT1709_trim.24F14222-BB8D-406B-86D3-C5D29749D32E.jpg  3079\n",
      "E:/2021MCM_ProblemC_Files/2021MCM_ProblemC_Files/ATT1714_trim.D080499B-C5EB-4378-9B9D-F36E13C36091.jpg  3085\n",
      "E:/2021MCM_ProblemC_Files/2021MCM_ProblemC_Files/ATT1723_trim.15E3F019-23AA-4D5A-95E5-131A009C1FF4.jpg  3102\n",
      "E:/2021MCM_ProblemC_Files/2021MCM_ProblemC_Files/ATT1828_trim.AB638565-35E6-4E97-AF7C-8E4FC342DE27.jpg  3256\n",
      "E:/2021MCM_ProblemC_Files/2021MCM_ProblemC_Files/ATT1832_trim.1E0D4A3E-F69D-4E7D-ADD8-482CA948CCEE.jpg  3263\n",
      "E:/2021MCM_ProblemC_Files/2021MCM_ProblemC_Files/ATT1839_trim.6C69E6EE-5BBE-4D86-BE68-29487BD7C6DA.jpg  3273\n",
      "E:/2021MCM_ProblemC_Files/2021MCM_ProblemC_Files/ATT1840_trim.D82A930A-93AA-4AAA-9417-580F22C06DD0.jpg  3275\n",
      "E:/2021MCM_ProblemC_Files/2021MCM_ProblemC_Files/ATT1841_trim.A8F1061B-A7AF-4716-8581-FBDD059B4A6A.jpg  3276\n",
      "E:/2021MCM_ProblemC_Files/2021MCM_ProblemC_Files/ATT1869_trim.C6C8C586-E5E5-484F-BF36-828394B43635.jpg  3323\n",
      "E:/2021MCM_ProblemC_Files/2021MCM_ProblemC_Files/ATT1947_trim.74AB10AD-10BD-45E4-97A1-24808F3DA27F.jpg  3441\n",
      "E:/2021MCM_ProblemC_Files/2021MCM_ProblemC_Files/ATT1949_trim.46A961DF-3935-4A33-B4B8-99F221A65DCD.jpg  3444\n",
      "E:/2021MCM_ProblemC_Files/2021MCM_ProblemC_Files/ATT1988_trim.A1AF1461-7FCE-4B95-9C98-B82C6BBAA9DC.jpg  3513\n",
      "E:/2021MCM_ProblemC_Files/2021MCM_ProblemC_Files/ATT2000_trim.6CB403F0-D502-4A4A-BBF1-8D15C0C96F98.jpg  3528\n",
      "E:/2021MCM_ProblemC_Files/2021MCM_ProblemC_Files/ATT2059_trim.4A15DD5B-6AC2-40C6-8ADA-1C8C3AC69544.jpg  3617\n",
      "E:/2021MCM_ProblemC_Files/2021MCM_ProblemC_Files/ATT2083_trim.54E3B0D7-5503-4F91-836B-FC3C96AD9231.jpg  3666\n",
      "E:/2021MCM_ProblemC_Files/2021MCM_ProblemC_Files/ATT2088_Found at 1890 E Johns Prairie Rd.jpg  3683\n",
      "E:/2021MCM_ProblemC_Files/2021MCM_ProblemC_Files/ATT2128_trim.267E8E67-C0CB-4C7D-BA6D-9DACD6DB0189.jpg  3751\n",
      "E:/2021MCM_ProblemC_Files/2021MCM_ProblemC_Files/ATT2191_Bug_6.jpg  3854\n",
      "E:/2021MCM_ProblemC_Files/2021MCM_ProblemC_Files/ATT2192_Bug_4.jpg  3855\n",
      "E:/2021MCM_ProblemC_Files/2021MCM_ProblemC_Files/ATT2193_Bug_5.jpg  3856\n",
      "E:/2021MCM_ProblemC_Files/2021MCM_ProblemC_Files/ATT2197_archive (1).zip  3860\n",
      "E:/2021MCM_ProblemC_Files/2021MCM_ProblemC_Files/ATT2213_trim.7AC43C95-20CE-4E03-9DFB-0497820675FE.jpg  3889\n",
      "E:/2021MCM_ProblemC_Files/2021MCM_ProblemC_Files/ATT2343_trim.C9FBA10B-55E1-4CD7-A176-F786A41F5526.jpg  4095\n",
      "E:/2021MCM_ProblemC_Files/2021MCM_ProblemC_Files/ATT2357_trim.1EC6F26F-8D72-4619-A211-1C88776DAB72.jpg  4115\n",
      "E:/2021MCM_ProblemC_Files/2021MCM_ProblemC_Files/ATT2369_trim.36B282C4-4901-409A-881F-05E64E969B9F.jpg  4136\n",
      "E:/2021MCM_ProblemC_Files/2021MCM_ProblemC_Files/ATT2397_Hornet1.jpg  4171\n",
      "E:/2021MCM_ProblemC_Files/2021MCM_ProblemC_Files/ATT2416_trim.776FDFB9-9872-4969-8F27-E46B047A73B6.jpg  4198\n",
      "E:/2021MCM_ProblemC_Files/2021MCM_ProblemC_Files/ATT2471_Hornet.zip  4274\n",
      "E:/2021MCM_ProblemC_Files/2021MCM_ProblemC_Files/ATT2505_trim.336CD8F6-A4DC-4FC7-88B5-E857ECAF4B53.jpg  4327\n",
      "E:/2021MCM_ProblemC_Files/2021MCM_ProblemC_Files/ATT2559_trim.FEC6F84A-E02A-4CBC-8B3C-04C6B5F468EA.jpg  4402\n",
      "E:/2021MCM_ProblemC_Files/2021MCM_ProblemC_Files/ATT2584_trim.03A91058-E3E0-4DEC-BCD4-504A181B7C57.jpg  4443\n",
      "E:/2021MCM_ProblemC_Files/2021MCM_ProblemC_Files/ATT2619_trim.71051141-BFCB-45BD-945F-A2BD945B3679.jpg  4494\n",
      "E:/2021MCM_ProblemC_Files/2021MCM_ProblemC_Files/ATT2627_trim.1B343122-112C-47AF-9F72-CD4B531396E2.jpg  4503\n",
      "E:/2021MCM_ProblemC_Files/2021MCM_ProblemC_Files/ATT2678_LargeYellowJacket.jpg  4583\n",
      "E:/2021MCM_ProblemC_Files/2021MCM_ProblemC_Files/ATT2785_trim.78561323-3C1A-48BE-9F5C-3085CC12DBF6.jpg  4736\n",
      "E:/2021MCM_ProblemC_Files/2021MCM_ProblemC_Files/ATT2800_trim.55AB752B-AE68-452A-A7B5-99B1B090397A.jpg  4760\n",
      "E:/2021MCM_ProblemC_Files/2021MCM_ProblemC_Files/ATT2826_Asian Hornet_  4797\n",
      "E:/2021MCM_ProblemC_Files/2021MCM_ProblemC_Files/ATT2866_trim.40EF9346-4072-46DA-8AC6-DD32EEAD6249.jpg  4852\n",
      "E:/2021MCM_ProblemC_Files/2021MCM_ProblemC_Files/ATT2910_giant asian hornet  4919\n",
      "E:/2021MCM_ProblemC_Files/2021MCM_ProblemC_Files/ATT2952_trim.878DDEA9-7D61-4A82-AD00-AEE09645DA43.jpg  4973\n",
      "E:/2021MCM_ProblemC_Files/2021MCM_ProblemC_Files/ATT3074_trim.E7841E16-870C-4AFC-8778-996C162847E0.jpg  5169\n",
      "E:/2021MCM_ProblemC_Files/2021MCM_ProblemC_Files/ATT3119_trim.21EBB3EA-5989-4C07-BCD7-4C7E83658AA3.jpg  5233\n",
      "E:/2021MCM_ProblemC_Files/2021MCM_ProblemC_Files/ATT3159_trim.1C665BD6-9BB0-41E5-9A99-E0BF8CA31B6E.jpg  5288\n"
     ]
    }
   ],
   "source": [
    "# import os\n",
    "# c=1\n",
    "# for i in x:\n",
    "#         path='E:/2021MCM_ProblemC_Files/2021MCM_ProblemC_Files/'+i\n",
    "#         c=c+1\n",
    "#         if  not os.path.exists(path):\n",
    "#             print(path+'  '+str(c))\n",
    "    "
   ]
  },
  {
   "cell_type": "code",
   "execution_count": 4,
   "id": "linear-energy",
   "metadata": {},
   "outputs": [],
   "source": [
    "#\n",
    "import cv2\n",
    "import os\n",
    "w=100\n",
    "h=100\n",
    "c=3\n",
    "def read_img(x):\n",
    "    imgs=[]\n",
    "    labels=[]\n",
    "    \n",
    "    for i in x:\n",
    "        path='E:/2021MCM_ProblemC_Files/2021MCM_ProblemC_Files/'+i\n",
    "        \n",
    "        if  os.path.exists(path):\n",
    "            im = cv2.imread(path)\n",
    "            img = cv2.resize(im, (w, h))/255.\n",
    "            imgs.append(img)\n",
    "        else:\n",
    "            im = cv2.imread('E:/2021MCM_ProblemC_Files/2021MCM_ProblemC_Files/bai.jpg')\n",
    "            img = cv2.resize(im, (w, h))/255.\n",
    "            imgs.append(img)\n",
    "    return np.asarray(imgs,np.float32)\n",
    "data=read_img(x)"
   ]
  },
  {
   "cell_type": "code",
   "execution_count": 6,
   "id": "driven-manhattan",
   "metadata": {},
   "outputs": [
    {
     "data": {
      "text/plain": [
       "(5536, 100, 100, 3)"
      ]
     },
     "execution_count": 6,
     "metadata": {},
     "output_type": "execute_result"
    }
   ],
   "source": [
    "data.shape"
   ]
  },
  {
   "cell_type": "code",
   "execution_count": 8,
   "id": "asian-decimal",
   "metadata": {},
   "outputs": [],
   "source": [
    "import tensorflow as tf\n",
    "network = tf.keras.models.load_model('densenet.h5')\n"
   ]
  },
  {
   "cell_type": "code",
   "execution_count": 9,
   "id": "racial-samuel",
   "metadata": {
    "collapsed": true
   },
   "outputs": [
    {
     "name": "stdout",
     "output_type": "stream",
     "text": [
      "Model: \"sequential_1\"\n",
      "_________________________________________________________________\n",
      "Layer (type)                 Output Shape              Param #   \n",
      "=================================================================\n",
      "conv2d_4 (Conv2D)            (None, 100, 100, 32)      896       \n",
      "_________________________________________________________________\n",
      "activation_6 (Activation)    (None, 100, 100, 32)      0         \n",
      "_________________________________________________________________\n",
      "conv2d_5 (Conv2D)            (None, 98, 98, 32)        9248      \n",
      "_________________________________________________________________\n",
      "activation_7 (Activation)    (None, 98, 98, 32)        0         \n",
      "_________________________________________________________________\n",
      "max_pooling2d_2 (MaxPooling2 (None, 49, 49, 32)        0         \n",
      "_________________________________________________________________\n",
      "dropout_3 (Dropout)          (None, 49, 49, 32)        0         \n",
      "_________________________________________________________________\n",
      "conv2d_6 (Conv2D)            (None, 49, 49, 64)        18496     \n",
      "_________________________________________________________________\n",
      "activation_8 (Activation)    (None, 49, 49, 64)        0         \n",
      "_________________________________________________________________\n",
      "conv2d_7 (Conv2D)            (None, 47, 47, 64)        36928     \n",
      "_________________________________________________________________\n",
      "activation_9 (Activation)    (None, 47, 47, 64)        0         \n",
      "_________________________________________________________________\n",
      "max_pooling2d_3 (MaxPooling2 (None, 23, 23, 64)        0         \n",
      "_________________________________________________________________\n",
      "dropout_4 (Dropout)          (None, 23, 23, 64)        0         \n",
      "_________________________________________________________________\n",
      "flatten_1 (Flatten)          (None, 33856)             0         \n",
      "_________________________________________________________________\n",
      "dense_2 (Dense)              (None, 512)               17334784  \n",
      "_________________________________________________________________\n",
      "activation_10 (Activation)   (None, 512)               0         \n",
      "_________________________________________________________________\n",
      "dropout_5 (Dropout)          (None, 512)               0         \n",
      "_________________________________________________________________\n",
      "dense_3 (Dense)              (None, 3)                 1539      \n",
      "_________________________________________________________________\n",
      "activation_11 (Activation)   (None, 3)                 0         \n",
      "=================================================================\n",
      "Total params: 17,401,891\n",
      "Trainable params: 17,401,891\n",
      "Non-trainable params: 0\n",
      "_________________________________________________________________\n"
     ]
    }
   ],
   "source": [
    "network.summary()"
   ]
  },
  {
   "cell_type": "code",
   "execution_count": 10,
   "id": "helpful-palace",
   "metadata": {},
   "outputs": [],
   "source": [
    "y_predict=network.predict(data)"
   ]
  },
  {
   "cell_type": "code",
   "execution_count": 12,
   "id": "adjustable-procedure",
   "metadata": {},
   "outputs": [
    {
     "data": {
      "text/plain": [
       "5536"
      ]
     },
     "execution_count": 12,
     "metadata": {},
     "output_type": "execute_result"
    }
   ],
   "source": [
    "len(y_predict)"
   ]
  },
  {
   "cell_type": "code",
   "execution_count": 13,
   "id": "respiratory-heart",
   "metadata": {},
   "outputs": [],
   "source": [
    "y_predict=network.predict(data)\n",
    "df=pd.DataFrame(y_predict)\n",
    "df.to_excel('E:/2021MCM_ProblemC_Files/2021_MCM_Problem_C_Data/resultcv2.xlsx',index=False)"
   ]
  },
  {
   "cell_type": "code",
   "execution_count": 14,
   "id": "involved-alaska",
   "metadata": {},
   "outputs": [
    {
     "data": {
      "text/html": [
       "<div>\n",
       "<style scoped>\n",
       "    .dataframe tbody tr th:only-of-type {\n",
       "        vertical-align: middle;\n",
       "    }\n",
       "\n",
       "    .dataframe tbody tr th {\n",
       "        vertical-align: top;\n",
       "    }\n",
       "\n",
       "    .dataframe thead th {\n",
       "        text-align: right;\n",
       "    }\n",
       "</style>\n",
       "<table border=\"1\" class=\"dataframe\">\n",
       "  <thead>\n",
       "    <tr style=\"text-align: right;\">\n",
       "      <th></th>\n",
       "      <th>GlobalID</th>\n",
       "      <th>Detection Date</th>\n",
       "      <th>Notes</th>\n",
       "      <th>Lab Status</th>\n",
       "      <th>Lab Comments</th>\n",
       "      <th>Submission Date</th>\n",
       "      <th>Latitude</th>\n",
       "      <th>Longitude</th>\n",
       "    </tr>\n",
       "  </thead>\n",
       "  <tbody>\n",
       "    <tr>\n",
       "      <th>2</th>\n",
       "      <td>{13B67BCB-AFCE-4100-AD2B-76EF178BA228}</td>\n",
       "      <td>2020-01-15 00:00:00</td>\n",
       "      <td>Massive loss of bees, decapitated. No hornet s...</td>\n",
       "      <td>Unverified</td>\n",
       "      <td></td>\n",
       "      <td>2020-01-15</td>\n",
       "      <td>48.939200</td>\n",
       "      <td>-122.661300</td>\n",
       "    </tr>\n",
       "    <tr>\n",
       "      <th>4</th>\n",
       "      <td>{BBBA5BA0-CAFB-43D3-8F1D-FB2D9CF777E0}</td>\n",
       "      <td>2019-08-31 00:00:00</td>\n",
       "      <td>I was cleaning my gutters when I heard a snapp...</td>\n",
       "      <td>Unverified</td>\n",
       "      <td>Thanks for this report. I can't verify it from...</td>\n",
       "      <td>2020-02-14</td>\n",
       "      <td>48.723779</td>\n",
       "      <td>-122.354431</td>\n",
       "    </tr>\n",
       "    <tr>\n",
       "      <th>5</th>\n",
       "      <td>{EB4746A1-5A8B-4D7D-9149-D560988238EC}</td>\n",
       "      <td>2019-10-15 00:00:00</td>\n",
       "      <td>We found about a dozen of these bees in our ba...</td>\n",
       "      <td>Unverified</td>\n",
       "      <td>Thanks for your submission. Here's hoping they...</td>\n",
       "      <td>2020-02-27</td>\n",
       "      <td>48.986176</td>\n",
       "      <td>-122.697450</td>\n",
       "    </tr>\n",
       "    <tr>\n",
       "      <th>7</th>\n",
       "      <td>{E6ADE6FB-0BD3-43EC-8E75-72EFC6F029FB}</td>\n",
       "      <td>2020-03-01 00:00:00</td>\n",
       "      <td>Reported to Washington Invasive Species Counci...</td>\n",
       "      <td>Unverified</td>\n",
       "      <td></td>\n",
       "      <td>2020-03-02</td>\n",
       "      <td>48.186024</td>\n",
       "      <td>-122.344680</td>\n",
       "    </tr>\n",
       "    <tr>\n",
       "      <th>10</th>\n",
       "      <td>{0AF6F3AA-8565-4B8F-8BF5-8D43D9677FE2}</td>\n",
       "      <td>2019-07-17 00:00:00</td>\n",
       "      <td></td>\n",
       "      <td>Unverified</td>\n",
       "      <td>Thank you for your submission. Since there is ...</td>\n",
       "      <td>2020-03-19</td>\n",
       "      <td>47.487496</td>\n",
       "      <td>-118.958142</td>\n",
       "    </tr>\n",
       "    <tr>\n",
       "      <th>...</th>\n",
       "      <td>...</td>\n",
       "      <td>...</td>\n",
       "      <td>...</td>\n",
       "      <td>...</td>\n",
       "      <td>...</td>\n",
       "      <td>...</td>\n",
       "      <td>...</td>\n",
       "      <td>...</td>\n",
       "    </tr>\n",
       "    <tr>\n",
       "      <th>4435</th>\n",
       "      <td>{153C4ACC-72AE-4D87-AA80-4C714417F8C6}</td>\n",
       "      <td>2020-10-02 00:00:00</td>\n",
       "      <td>It was about an inch and a quarter in length. ...</td>\n",
       "      <td>Unprocessed</td>\n",
       "      <td></td>\n",
       "      <td>2020-10-23</td>\n",
       "      <td>47.145673</td>\n",
       "      <td>-122.566734</td>\n",
       "    </tr>\n",
       "    <tr>\n",
       "      <th>4436</th>\n",
       "      <td>{26DDF8E2-DA0C-4F87-A65A-233115BAFCCD}</td>\n",
       "      <td>2020-08-29 00:00:00</td>\n",
       "      <td>I was stung several times on the 7th hole ov t...</td>\n",
       "      <td>Unprocessed</td>\n",
       "      <td></td>\n",
       "      <td>2020-10-23</td>\n",
       "      <td>48.997938</td>\n",
       "      <td>-122.729890</td>\n",
       "    </tr>\n",
       "    <tr>\n",
       "      <th>4437</th>\n",
       "      <td>{3E50801D-9DBB-43DE-8D32-31CFA88C74D9}</td>\n",
       "      <td>2020-10-23 00:00:00</td>\n",
       "      <td>Found dead in humming bird feeder. Silverdale WA</td>\n",
       "      <td>Unprocessed</td>\n",
       "      <td></td>\n",
       "      <td>2020-10-23</td>\n",
       "      <td>47.651710</td>\n",
       "      <td>-122.692750</td>\n",
       "    </tr>\n",
       "    <tr>\n",
       "      <th>4438</th>\n",
       "      <td>{9BA7BDD9-01A5-4776-99B0-89FCE08CA53B}</td>\n",
       "      <td>2020-10-19 00:00:00</td>\n",
       "      <td>I live on Bainbridge Island on a heavily woode...</td>\n",
       "      <td>Unprocessed</td>\n",
       "      <td></td>\n",
       "      <td>2020-10-23</td>\n",
       "      <td>47.690120</td>\n",
       "      <td>-122.509780</td>\n",
       "    </tr>\n",
       "    <tr>\n",
       "      <th>4439</th>\n",
       "      <td>{7BD09981-CC6F-4FF8-8395-DABFF0D07A96}</td>\n",
       "      <td>2020-08-04 00:00:00</td>\n",
       "      <td>At Cresap bay campground in Washington, my fam...</td>\n",
       "      <td>Unprocessed</td>\n",
       "      <td></td>\n",
       "      <td>2020-10-23</td>\n",
       "      <td>45.968985</td>\n",
       "      <td>-122.386562</td>\n",
       "    </tr>\n",
       "  </tbody>\n",
       "</table>\n",
       "<p>2357 rows × 8 columns</p>\n",
       "</div>"
      ],
      "text/plain": [
       "                                    GlobalID       Detection Date  \\\n",
       "2     {13B67BCB-AFCE-4100-AD2B-76EF178BA228}  2020-01-15 00:00:00   \n",
       "4     {BBBA5BA0-CAFB-43D3-8F1D-FB2D9CF777E0}  2019-08-31 00:00:00   \n",
       "5     {EB4746A1-5A8B-4D7D-9149-D560988238EC}  2019-10-15 00:00:00   \n",
       "7     {E6ADE6FB-0BD3-43EC-8E75-72EFC6F029FB}  2020-03-01 00:00:00   \n",
       "10    {0AF6F3AA-8565-4B8F-8BF5-8D43D9677FE2}  2019-07-17 00:00:00   \n",
       "...                                      ...                  ...   \n",
       "4435  {153C4ACC-72AE-4D87-AA80-4C714417F8C6}  2020-10-02 00:00:00   \n",
       "4436  {26DDF8E2-DA0C-4F87-A65A-233115BAFCCD}  2020-08-29 00:00:00   \n",
       "4437  {3E50801D-9DBB-43DE-8D32-31CFA88C74D9}  2020-10-23 00:00:00   \n",
       "4438  {9BA7BDD9-01A5-4776-99B0-89FCE08CA53B}  2020-10-19 00:00:00   \n",
       "4439  {7BD09981-CC6F-4FF8-8395-DABFF0D07A96}  2020-08-04 00:00:00   \n",
       "\n",
       "                                                  Notes   Lab Status  \\\n",
       "2     Massive loss of bees, decapitated. No hornet s...   Unverified   \n",
       "4     I was cleaning my gutters when I heard a snapp...   Unverified   \n",
       "5     We found about a dozen of these bees in our ba...   Unverified   \n",
       "7     Reported to Washington Invasive Species Counci...   Unverified   \n",
       "10                                                        Unverified   \n",
       "...                                                 ...          ...   \n",
       "4435  It was about an inch and a quarter in length. ...  Unprocessed   \n",
       "4436  I was stung several times on the 7th hole ov t...  Unprocessed   \n",
       "4437   Found dead in humming bird feeder. Silverdale WA  Unprocessed   \n",
       "4438  I live on Bainbridge Island on a heavily woode...  Unprocessed   \n",
       "4439  At Cresap bay campground in Washington, my fam...  Unprocessed   \n",
       "\n",
       "                                           Lab Comments Submission Date  \\\n",
       "2                                                            2020-01-15   \n",
       "4     Thanks for this report. I can't verify it from...      2020-02-14   \n",
       "5     Thanks for your submission. Here's hoping they...      2020-02-27   \n",
       "7                                                            2020-03-02   \n",
       "10    Thank you for your submission. Since there is ...      2020-03-19   \n",
       "...                                                 ...             ...   \n",
       "4435                                                         2020-10-23   \n",
       "4436                                                         2020-10-23   \n",
       "4437                                                         2020-10-23   \n",
       "4438                                                         2020-10-23   \n",
       "4439                                                         2020-10-23   \n",
       "\n",
       "       Latitude   Longitude  \n",
       "2     48.939200 -122.661300  \n",
       "4     48.723779 -122.354431  \n",
       "5     48.986176 -122.697450  \n",
       "7     48.186024 -122.344680  \n",
       "10    47.487496 -118.958142  \n",
       "...         ...         ...  \n",
       "4435  47.145673 -122.566734  \n",
       "4436  48.997938 -122.729890  \n",
       "4437  47.651710 -122.692750  \n",
       "4438  47.690120 -122.509780  \n",
       "4439  45.968985 -122.386562  \n",
       "\n",
       "[2357 rows x 8 columns]"
      ]
     },
     "execution_count": 14,
     "metadata": {},
     "output_type": "execute_result"
    }
   ],
   "source": [
    "shu= pd.read_excel('E:/2021MCM_ProblemC_Files/2021_MCM_Problem_C_Data/2021MCMProblemC_DataSet.xlsx')\n",
    "\n",
    "p = ['Unverified','Unprocessed']\n",
    "index_s =[]\n",
    "for i in range(len(shu)):\n",
    "    if shu.loc[i,'Lab Status'] in p:\n",
    "        index_s.append(i)\n",
    "    else:\n",
    "        continue\n",
    "shu=shu.iloc[index_s]\n",
    "shu"
   ]
  },
  {
   "cell_type": "code",
   "execution_count": 15,
   "id": "forward-extension",
   "metadata": {},
   "outputs": [
    {
     "name": "stderr",
     "output_type": "stream",
     "text": [
      "C:\\Users\\super qing\\Anaconda3\\lib\\site-packages\\pandas\\core\\indexing.py:1418: FutureWarning: \n",
      "Passing list-likes to .loc or [] with any missing label will raise\n",
      "KeyError in the future, you can use .reindex() as an alternative.\n",
      "\n",
      "See the documentation here:\n",
      "https://pandas.pydata.org/pandas-docs/stable/user_guide/indexing.html#deprecate-loc-reindex-listlike\n",
      "  return self._getitem_tuple(key)\n"
     ]
    }
   ],
   "source": [
    "yu=pd.merge(shu.loc[:,['GlobalID','wen','Lab Status']],data2.loc[:,['GlobalID','FileName']], how='left', on=['GlobalID'])\n",
    "yu.FileName.fillna(str('bai.jpg'),inplace=True)\n"
   ]
  },
  {
   "cell_type": "code",
   "execution_count": 16,
   "id": "interracial-fundamental",
   "metadata": {},
   "outputs": [],
   "source": [
    "x=yu['FileName'].tolist()"
   ]
  },
  {
   "cell_type": "code",
   "execution_count": 17,
   "id": "viral-reconstruction",
   "metadata": {},
   "outputs": [],
   "source": [
    "#\n",
    "import cv2\n",
    "import os\n",
    "w=100\n",
    "h=100\n",
    "c=3\n",
    "def read_img(x):\n",
    "    imgs=[]\n",
    "    labels=[]\n",
    "    \n",
    "    for i in x:\n",
    "        path='E:/2021MCM_ProblemC_Files/2021MCM_ProblemC_Files/'+i\n",
    "        \n",
    "        if  os.path.exists(path):\n",
    "            im = cv2.imread(path)\n",
    "            img = cv2.resize(im, (w, h))/255.\n",
    "            imgs.append(img)\n",
    "        else:\n",
    "            im = cv2.imread('E:/2021MCM_ProblemC_Files/2021MCM_ProblemC_Files/bai.jpg')\n",
    "            img = cv2.resize(im, (w, h))/255.\n",
    "            imgs.append(img)\n",
    "    return np.asarray(imgs,np.float32)\n",
    "data=read_img(x)"
   ]
  },
  {
   "cell_type": "code",
   "execution_count": 18,
   "id": "refined-platinum",
   "metadata": {},
   "outputs": [],
   "source": [
    "y_predict=network.predict(data)\n",
    "df=pd.DataFrame(y_predict)\n",
    "df.to_excel('E:/2021MCM_ProblemC_Files/2021_MCM_Problem_C_Data/resultcv3.xlsx',index=False)"
   ]
  },
  {
   "cell_type": "code",
   "execution_count": null,
   "id": "molecular-punch",
   "metadata": {},
   "outputs": [],
   "source": []
  }
 ],
 "metadata": {
  "kernelspec": {
   "display_name": "Python 3",
   "language": "python",
   "name": "python3"
  },
  "language_info": {
   "codemirror_mode": {
    "name": "ipython",
    "version": 3
   },
   "file_extension": ".py",
   "mimetype": "text/x-python",
   "name": "python",
   "nbconvert_exporter": "python",
   "pygments_lexer": "ipython3",
   "version": "3.7.4"
  }
 },
 "nbformat": 4,
 "nbformat_minor": 5
}
