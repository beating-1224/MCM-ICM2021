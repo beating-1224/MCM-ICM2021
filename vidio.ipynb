{
 "cells": [
  {
   "cell_type": "code",
   "execution_count": 6,
   "id": "metropolitan-omega",
   "metadata": {},
   "outputs": [],
   "source": [
    "\n",
    "import cv2\n",
    "\n",
    "cap = cv2.VideoCapture('112.mp4')\n",
    "success, frame = cap.read()\n",
    "i = 0\n",
    "root = 'tmp/'\n",
    "classes = 'Battery'\n",
    "\n",
    "while success:\n",
    "    success, frame = cap.read()\n",
    "    if success:\n",
    "        cv2.imshow('frame', frame)\n",
    "        if cv2.waitKey(100) & 0xFF == ord('q'):\n",
    "            break\n",
    "        elif cv2.waitKey(100) & 0xFF == ord('s'):\n",
    "            cv2.imwrite(root + classes+'/'+classes+'_'+str(i)+'.jpg', frame)\n",
    "            i += 1\n",
    "    else:\n",
    "        break\n",
    "\n",
    "cap.release()\n",
    "cv2.destroyAllWindows()"
   ]
  },
  {
   "cell_type": "code",
   "execution_count": 6,
   "id": "massive-appreciation",
   "metadata": {},
   "outputs": [],
   "source": [
    "import cv2 as cv\n",
    "import os.path\n",
    "\n",
    "# 1.存储图片文件夹\n",
    "path = 'E:/tupian'         # 存放视频图片的主目录\n",
    "if not os.path.exists(path):    # 如果不存在就创建文件夹\n",
    "    os.mkdir(path)\n",
    "\n",
    "# 2.读取视频文件夹\n",
    "filepath = 'E:/shipin'            # 需要读取的视频的路径\n",
    "pathDir = os.listdir(filepath)  # 获取文件夹中文件名称\n",
    "\n",
    "# 3.截视频帧数\n",
    "for allDir in pathDir:          # 逐个读取视频文件\n",
    "        a = 1  # 图片计数初始化\n",
    "        c = 1  # 帧数计数初始化\n",
    "        videopath = r'E:/shipin/'+allDir  # 视频文件路径\n",
    "        vc = cv.VideoCapture(videopath) # 读入视频文件\n",
    "# 存储视频的子目录\n",
    "        path = 'E:/tupian/'+allDir.split('.')[0]\n",
    "        if not os.path.exists(path):    # 如果不存在就创建文件夹\n",
    "            os.mkdir(path)\n",
    "\n",
    "        if vc.isOpened():\n",
    "            rval , frame = vc.read()\n",
    "        else:\n",
    "            rval = False\n",
    "\n",
    "        timeF = 1000                       # 帧数间隔\n",
    "        while rval:\n",
    "            rval,frame = vc.read()      # 分帧读取视频\n",
    "            if rval==False:\n",
    "                break\n",
    "            if(c%timeF==0):\n",
    "                cv.imwrite(path+'/'+str(a)+'.jpg',frame)    # 保存路径\n",
    "                a = a+1\n",
    "            c = c+1#计时\n",
    "            cv.waitKey(1)\n",
    "        vc.release()\n"
   ]
  },
  {
   "cell_type": "code",
   "execution_count": null,
   "id": "statewide-focus",
   "metadata": {},
   "outputs": [],
   "source": []
  }
 ],
 "metadata": {
  "kernelspec": {
   "display_name": "Python 3",
   "language": "python",
   "name": "python3"
  },
  "language_info": {
   "codemirror_mode": {
    "name": "ipython",
    "version": 3
   },
   "file_extension": ".py",
   "mimetype": "text/x-python",
   "name": "python",
   "nbconvert_exporter": "python",
   "pygments_lexer": "ipython3",
   "version": "3.7.4"
  }
 },
 "nbformat": 4,
 "nbformat_minor": 5
}
